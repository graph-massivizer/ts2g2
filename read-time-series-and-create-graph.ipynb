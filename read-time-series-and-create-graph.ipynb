{
 "cells": [
  {
   "cell_type": "code",
   "execution_count": null,
   "id": "90af1f9a",
   "metadata": {},
   "outputs": [],
   "source": [
    "import pandas as pd\n",
    "import random"
   ]
  },
  {
   "cell_type": "code",
   "execution_count": null,
   "id": "98cecb87",
   "metadata": {},
   "outputs": [],
   "source": [
    "df = pd.read_csv('./data/AMZN.csv')"
   ]
  },
  {
   "cell_type": "code",
   "execution_count": null,
   "id": "b27be71d",
   "metadata": {},
   "outputs": [],
   "source": [
    "total_vertexes=0\n",
    "vertexes = {}"
   ]
  },
  {
   "cell_type": "code",
   "execution_count": null,
   "id": "0d7eae99",
   "metadata": {},
   "outputs": [],
   "source": [
    "def insert_vertex(vertexes, source, dest):\n",
    "    if source not in vertexes.keys():\n",
    "        vertexes[source]=[dest]\n",
    "    else:\n",
    "        vertexes[source]=vertexes[source]+[dest]"
   ]
  },
  {
   "cell_type": "code",
   "execution_count": null,
   "id": "5c24b61f",
   "metadata": {},
   "outputs": [],
   "source": [
    "for i in range(0, len(df.index)-1):\n",
    "    source=df.iloc[i][1]\n",
    "    dest=df.iloc[i+1][1]\n",
    "    insert_vertex(vertexes, source, dest)\n",
    "    total_vertexes = total_vertexes + 1"
   ]
  },
  {
   "cell_type": "code",
   "execution_count": null,
   "id": "de20bc33",
   "metadata": {},
   "outputs": [],
   "source": [
    "def generate_ts(vertexes, length):\n",
    "    ts = []\n",
    "    last_key = None\n",
    "    for i in range(0, length):\n",
    "        new_key = None\n",
    "        if last_key is not None:\n",
    "            if last_key in vertexes.keys():\n",
    "                new_key = random.choice(vertexes[last_key])\n",
    "        if new_key is None:\n",
    "            new_key = random.choice(list(vertexes.keys()))\n",
    "        ts = ts + [new_key]\n",
    "        last_key = new_key\n",
    "    return ts"
   ]
  },
  {
   "cell_type": "code",
   "execution_count": null,
   "id": "34d7a323",
   "metadata": {},
   "outputs": [],
   "source": [
    "ts = generate_ts(vertexes, 5)"
   ]
  },
  {
   "cell_type": "code",
   "execution_count": null,
   "id": "b19c736a",
   "metadata": {},
   "outputs": [],
   "source": [
    "ts"
   ]
  },
  {
   "cell_type": "code",
   "execution_count": null,
   "id": "d750abd9",
   "metadata": {},
   "outputs": [],
   "source": []
  }
 ],
 "metadata": {
  "kernelspec": {
   "display_name": "Python 3 (ipykernel)",
   "language": "python",
   "name": "python3"
  },
  "language_info": {
   "codemirror_mode": {
    "name": "ipython",
    "version": 3
   },
   "file_extension": ".py",
   "mimetype": "text/x-python",
   "name": "python",
   "nbconvert_exporter": "python",
   "pygments_lexer": "ipython3",
   "version": "3.9.6"
  }
 },
 "nbformat": 4,
 "nbformat_minor": 5
}
