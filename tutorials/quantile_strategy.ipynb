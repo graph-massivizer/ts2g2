{
 "cells": [
  {
   "metadata": {},
   "cell_type": "markdown",
   "source": "# ts2g using quantile strategy",
   "id": "d0b4142011a59790"
  },
  {
   "metadata": {
    "ExecuteTime": {
     "end_time": "2024-07-08T20:10:40.920997Z",
     "start_time": "2024-07-08T20:10:40.909810Z"
    }
   },
   "cell_type": "code",
   "source": [
    "import os\n",
    "import sys\n",
    "nb_dir = os.path.split(os.getcwd())[0]\n",
    "if nb_dir not in sys.path:\n",
    "    sys.path.append(nb_dir)"
   ],
   "id": "8019a9cc94b35422",
   "execution_count": 1,
   "outputs": []
  },
  {
   "metadata": {
    "ExecuteTime": {
     "end_time": "2024-07-08T20:10:43.183636Z",
     "start_time": "2024-07-08T20:10:40.920997Z"
    }
   },
   "cell_type": "code",
   "source": [
    "import os\n",
    "import csv\n",
    "import numpy as np\n",
    "import pandas as pd\n",
    "import networkx as nx\n",
    "import matplotlib.pyplot as plt\n",
    "from core import model \n",
    "from timeseries.quantiles import TimeseriesToQuantileGraph\n",
    "# from timeseries.strategies import TimeseriesToGraphStrategy"
   ],
   "id": "b3e805ea0711cd70",
   "execution_count": 2,
   "outputs": []
  },
  {
   "metadata": {},
   "cell_type": "markdown",
   "source": "## Loading data ",
   "id": "73423927fd7cd241"
  },
  {
   "metadata": {},
   "cell_type": "markdown",
   "source": "We first load the dataset :)",
   "id": "a82c06413ec854e8"
  },
  {
   "metadata": {
    "ExecuteTime": {
     "end_time": "2024-07-08T20:10:43.200552Z",
     "start_time": "2024-07-08T20:10:43.183636Z"
    }
   },
   "cell_type": "code",
   "source": "amazon_data = pd.read_csv(os.path.join(os.getcwd(), \"amazon\", \"AMZN.csv\"))   ",
   "id": "1bd0e9688dc5fd37",
   "execution_count": 3,
   "outputs": []
  },
  {
   "metadata": {},
   "cell_type": "markdown",
   "source": "To properly use the ‘Date’ column, we convert it to datetime format and ensure the dates are recognized as date objects. We then set the ‘Date’ column as the index of the DataFrame. This creates a time-series structure, facilitating analysis and visualization over time.",
   "id": "a2fe17b11a73f708"
  },
  {
   "metadata": {
    "ExecuteTime": {
     "end_time": "2024-07-08T20:10:43.215168Z",
     "start_time": "2024-07-08T20:10:43.200552Z"
    }
   },
   "cell_type": "code",
   "source": [
    "amazon_data[\"Date\"] = pd.to_datetime(amazon_data[\"Date\"])\n",
    "amazon_data.set_index(\"Date\", inplace=True)"
   ],
   "id": "e748cba8e0b90857",
   "execution_count": 4,
   "outputs": []
  },
  {
   "metadata": {},
   "cell_type": "markdown",
   "source": "# How does the time series look like?",
   "id": "2c47ae8a416aa03a"
  },
  {
   "metadata": {
    "ExecuteTime": {
     "end_time": "2024-07-08T20:10:43.220980Z",
     "start_time": "2024-07-08T20:10:43.215168Z"
    }
   },
   "cell_type": "code",
   "source": [
    "def plot_timeseries(sequence, title, x_legend, y_legend, color):\n",
    "    plt.figure(figsize=(10, 6))\n",
    "    plt.plot(sequence, linestyle='-', color=color)\n",
    "    \n",
    "    plt.title(title)\n",
    "    plt.xlabel(x_legend)\n",
    "    plt.ylabel(y_legend)\n",
    "    plt.grid(True)\n",
    "    plt.show()"
   ],
   "id": "d1374bc4061e9a87",
   "execution_count": 5,
   "outputs": []
  },
  {
   "metadata": {
    "ExecuteTime": {
     "end_time": "2024-07-08T20:10:43.227446Z",
     "start_time": "2024-07-08T20:10:43.220980Z"
    }
   },
   "cell_type": "code",
   "source": [
    "def plot_timeseries_sequence(df_column, title, x_legend, y_legend, color='black'):\n",
    "    sequence = model.Timeseries(model.TimeseriesArrayStream(df_column)).to_sequence()\n",
    "    plot_timeseries(sequence, title, x_legend, y_legend, color)"
   ],
   "id": "aecf9d041eb121ac",
   "execution_count": 6,
   "outputs": []
  },
  {
   "metadata": {
    "ExecuteTime": {
     "end_time": "2024-07-08T20:10:43.453651Z",
     "start_time": "2024-07-08T20:10:43.228980Z"
    }
   },
   "cell_type": "code",
   "source": "plot_timeseries_sequence(amazon_data[\"Close\"], \"Original Sequence\", \"Year\", \"Value\")",
   "id": "46200161944f314f",
   "execution_count": 7,
   "outputs": []
  },
  {
   "metadata": {},
   "cell_type": "markdown",
   "source": "Given the great length of the timeseries, let's focus on some sub-segments, so that we can better appreciate its behavior.",
   "id": "93466701f12070db"
  },
  {
   "metadata": {
    "ExecuteTime": {
     "end_time": "2024-07-08T20:10:44.382996Z",
     "start_time": "2024-07-08T20:10:44.365587Z"
    }
   },
   "cell_type": "code",
   "source": [
    "segment_1 = amazon_data[60:120]\n",
    "segment_2 = amazon_data[4000:4060]\n",
    "segment_3 = amazon_data[6000:6060]"
   ],
   "id": "b87157cb6b73f7cf",
   "execution_count": 8,
   "outputs": []
  },
  {
   "metadata": {},
   "cell_type": "markdown",
   "source": "How do the plots for these segments look like?",
   "id": "907444b48cc9be8f"
  },
  {
   "metadata": {
    "ExecuteTime": {
     "end_time": "2024-07-08T20:10:45.624997Z",
     "start_time": "2024-07-08T20:10:45.378170Z"
    }
   },
   "cell_type": "code",
   "source": "plot_timeseries_sequence(segment_1[\"Close\"], \"Segment 1\", \"Year\", \"Value\", 'gray')",
   "id": "756fd393f70e014",
   "execution_count": 9,
   "outputs": []
  },
  {
   "metadata": {
    "ExecuteTime": {
     "end_time": "2024-07-08T20:10:46.111357Z",
     "start_time": "2024-07-08T20:10:45.916172Z"
    }
   },
   "cell_type": "code",
   "source": "plot_timeseries_sequence(segment_2[\"Close\"], \"Segment 2\", \"Year\", \"Value\", 'green')",
   "id": "6eed21c10f61e1d6",
   "execution_count": 10,
   "outputs": []
  },
  {
   "metadata": {
    "ExecuteTime": {
     "end_time": "2024-07-08T20:10:46.985551Z",
     "start_time": "2024-07-08T20:10:46.769072Z"
    }
   },
   "cell_type": "code",
   "source": "plot_timeseries_sequence(segment_3[\"Close\"], \"Segment 3\", \"Year\", \"Value\", 'blue')",
   "id": "45c61a19eb5ff96a",
   "execution_count": 11,
   "outputs": []
  },
  {
   "metadata": {},
   "cell_type": "markdown",
   "source": "Let's turn the timeseries into networks (graphs)!",
   "id": "1e27ecaea67089ae"
  },
  {
   "metadata": {
    "ExecuteTime": {
     "end_time": "2024-07-08T20:10:47.945367Z",
     "start_time": "2024-07-08T20:10:47.936153Z"
    }
   },
   "cell_type": "code",
   "source": [
    "def sequence_to_graph(time_series, Q, phi, color):\n",
    "    strategy = TimeseriesToQuantileGraph (Q, phi)\n",
    "    g = strategy.to_graph(time_series, phi)\n",
    "    pos= nx.circular_layout(g, scale=1)\n",
    "    plt.figure(1,figsize=(8,8))\n",
    "    \n",
    "    \n",
    "    all_weights = []\n",
    "    for (q1, q2, data) in g.edges(data=True):\n",
    "        all_weights.append(data['weight'])\n",
    "    unique_weights = list(set(all_weights))\n",
    "    \n",
    "    nx.draw_networkx_nodes(g, pos, g.nodes, node_size=300, node_color = color)\n",
    "    \n",
    "    labels = {node: node for node in g.nodes()}\n",
    "    nx.draw_networkx_labels(g, pos, labels, font_size=12, font_color='black')\n",
    "    \n",
    "    for weight in unique_weights:\n",
    "        weighted_edges = [(q1, q2) for (q1, q2, edge_attr) in g.edges(data=True) if edge_attr['weight']==weight]\n",
    "        width = weight*len(g.nodes)*5.0/sum(all_weights)\n",
    "        nx.draw_networkx_edges(g,pos,edgelist=weighted_edges,width=width,edge_color='black',node_size=300)\n",
    "        \n",
    "    plt.show()"
   ],
   "id": "a1c0cb2cd35cf453",
   "execution_count": 12,
   "outputs": []
  },
  {
   "metadata": {
    "ExecuteTime": {
     "end_time": "2024-07-08T20:16:39.991933Z",
     "start_time": "2024-07-08T20:16:39.985477Z"
    }
   },
   "cell_type": "code",
   "source": [
    " def ts2q(time_series, Q):\n",
    "        quantiles = np.linspace(0, 1, Q + 1)\n",
    "        quantile_bins = np.quantile(time_series, quantiles)\n",
    "        quantile_bins[0] -= 1e-9\n",
    "        quantile_indices = np.digitize(time_series, quantile_bins, right=True) - 1\n",
    "        return quantile_bins, quantile_indices"
   ],
   "id": "811df4977fe767b0",
   "execution_count": 19,
   "outputs": []
  },
  {
   "metadata": {
    "ExecuteTime": {
     "end_time": "2024-07-08T20:17:01.781328Z",
     "start_time": "2024-07-08T20:17:01.616698Z"
    }
   },
   "cell_type": "code",
   "source": [
    "sequence_to_graph(segment_1[\"Close\"],4,1, 'gray')\n",
    "ts2q(segment_1[\"Close\"],4)"
   ],
   "id": "883d312447d2942d",
   "execution_count": 20,
   "outputs": []
  },
  {
   "metadata": {
    "ExecuteTime": {
     "end_time": "2024-07-08T20:17:56.820932Z",
     "start_time": "2024-07-08T20:17:56.615827Z"
    }
   },
   "cell_type": "code",
   "source": "sequence_to_graph(segment_1[\"Close\"], 4, 10, 'gray')",
   "id": "69a1419b674bbee4",
   "execution_count": 21,
   "outputs": []
  },
  {
   "metadata": {
    "ExecuteTime": {
     "end_time": "2024-07-08T20:18:39.382020Z",
     "start_time": "2024-07-08T20:18:39.172698Z"
    }
   },
   "cell_type": "code",
   "source": "sequence_to_graph(segment_2[\"Close\"],4,1, 'green')",
   "id": "4f1d89ddd9cf84a7",
   "execution_count": 22,
   "outputs": []
  },
  {
   "metadata": {
    "ExecuteTime": {
     "end_time": "2024-07-08T20:18:53.575263Z",
     "start_time": "2024-07-08T20:18:53.381150Z"
    }
   },
   "cell_type": "code",
   "source": "sequence_to_graph(segment_2[\"Close\"],4,10, 'green')",
   "id": "c39dd218d891474c",
   "execution_count": 23,
   "outputs": []
  },
  {
   "metadata": {
    "ExecuteTime": {
     "end_time": "2024-07-08T20:19:09.042325Z",
     "start_time": "2024-07-08T20:19:08.792421Z"
    }
   },
   "cell_type": "code",
   "source": "sequence_to_graph(segment_3[\"Close\"],4,1, 'blue')",
   "id": "aa9339e883c9e052",
   "execution_count": 24,
   "outputs": []
  },
  {
   "metadata": {
    "ExecuteTime": {
     "end_time": "2024-07-08T20:19:24.948339Z",
     "start_time": "2024-07-08T20:19:24.721526Z"
    }
   },
   "cell_type": "code",
   "source": "sequence_to_graph(segment_3[\"Close\"], 4, 10, 'blue')",
   "id": "e990157fe2c10078",
   "execution_count": 25,
   "outputs": []
  },
  {
   "metadata": {
    "ExecuteTime": {
     "end_time": "2024-07-08T20:19:30.382635Z",
     "start_time": "2024-07-08T20:19:30.377456Z"
    }
   },
   "cell_type": "code",
   "source": [
    "x = list(range(1,21))\n",
    "y = [0.35, 0.9, 0.3, 0.8, 0.6, 0.95, 0.1, 0.4, 0.9, 0.15, 0.5, 5, 0.05, 0.1, 0.2, 0.7, 0.6, 0.9, 0.3, 0.4]\n",
    "\n",
    "df = pd.DataFrame({'x': x, 'y': y})\n",
    "df.set_index(\"x\", inplace=True)"
   ],
   "id": "dc86d37f49ad1ad2",
   "execution_count": 26,
   "outputs": []
  },
  {
   "metadata": {
    "ExecuteTime": {
     "end_time": "2024-07-08T20:19:38.233445Z",
     "start_time": "2024-07-08T20:19:37.984355Z"
    }
   },
   "cell_type": "code",
   "source": "sequence_to_graph(df[\"y\"],4, 1, 'gray')",
   "id": "e4b86adfc13ebdf",
   "execution_count": 28,
   "outputs": []
  },
  {
   "metadata": {
    "ExecuteTime": {
     "end_time": "2024-07-08T20:29:36.775448Z",
     "start_time": "2024-07-08T20:29:36.766714Z"
    }
   },
   "cell_type": "code",
   "source": [
    "import numpy as np\n",
    "y = [1, 2, 3, 4, 5, 6, 7, 8, 9, 10]\n",
    "# y = [0.35, 0.9, 0.3, 0.8, 0.6, 0.95, 0.1, 0.4, 0.9, 0.15, 0.5, 5, 0.05, 0.1, 0.2, 0.7, 0.6, 0.9, 0.3, 0.4]\n",
    "\n",
    "# Define quantiles (0%, 25%, 50%, 75%, 100%)\n",
    "quantiles = np.linspace(0, 1, 5)\n",
    "\n",
    "# Compute quantile bins\n",
    "quantile_bins = np.quantile(y, quantiles)\n",
    "\n",
    "# Adjust bins to ensure all values fall within the bins\n",
    "quantile_bins[0] -= 1e-9  # Slightly reduce the first bin edge to include the minimum value\n",
    "\n",
    "# Digitize the data\n",
    "quantile_indices = np.digitize(y, quantile_bins, right=True) - 1\n",
    "\n",
    "print(\"Quantile Bins:\", quantile_bins)\n",
    "print(\"Quantile Indices:\", quantile_indices)"
   ],
   "id": "e09232afbd283342",
   "execution_count": 30,
   "outputs": []
  },
  {
   "metadata": {},
   "cell_type": "code",
   "execution_count": null,
   "source": "",
   "id": "48a6de972db37f90",
   "outputs": []
  }
 ],
 "metadata": {
  "kernelspec": {
   "display_name": "Python 3",
   "language": "python",
   "name": "python3"
  },
  "language_info": {
   "codemirror_mode": {
    "name": "ipython",
    "version": 2
   },
   "file_extension": ".py",
   "mimetype": "text/x-python",
   "name": "python",
   "nbconvert_exporter": "python",
   "pygments_lexer": "ipython2",
   "version": "2.7.6"
  }
 },
 "nbformat": 4,
 "nbformat_minor": 5
}
