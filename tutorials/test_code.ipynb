{
 "cells": [
  {
   "metadata": {
    "ExecuteTime": {
     "end_time": "2024-07-21T20:30:16.709439Z",
     "start_time": "2024-07-21T20:30:16.585507Z"
    }
   },
   "cell_type": "code",
   "source": [
    "from core.model import TimeseriesGraph\n",
    "import networkx as nx\n",
    "import itertools\n",
    "import math\n",
    "import numpy as np\n",
    "import pandas as pd\n",
    "import os\n",
    "import matplotlib as plt\n",
    "from core import model \n",
    "from newtest import TimeseriesToGraphStrategy,TimeseriesEdgeVisibilityConstraintsNatural,TimeseriesEdgeVisibilityConstraintsHorizontal,EdgeWeightingStrategyNull,TimeseriesToQuantileGraph, VisibilityGraphStrategy"
   ],
   "id": "59efef029f49fbe7",
   "execution_count": 10,
   "outputs": []
  },
  {
   "metadata": {
    "ExecuteTime": {
     "end_time": "2024-07-21T20:28:55.412234Z",
     "start_time": "2024-07-21T20:28:55.389692Z"
    }
   },
   "cell_type": "code",
   "source": [
    "amazon_data = pd.read_csv(os.path.join(os.getcwd(), \"amazon\", \"AMZN.csv\"))\n",
    "amazon_data[\"Date\"] = pd.to_datetime(amazon_data[\"Date\"])\n",
    "amazon_data.set_index(\"Date\", inplace=True)"
   ],
   "id": "153f1b35710181e4",
   "execution_count": 4,
   "outputs": []
  },
  {
   "metadata": {
    "ExecuteTime": {
     "end_time": "2024-07-21T20:28:55.417062Z",
     "start_time": "2024-07-21T20:28:55.412234Z"
    }
   },
   "cell_type": "code",
   "source": [
    "segment_1 = amazon_data[60:120]\n",
    "segment_2 = amazon_data[4000:4060]\n",
    "segment_3 = amazon_data[6000:6060]"
   ],
   "id": "d7852709692833e9",
   "execution_count": 5,
   "outputs": []
  },
  {
   "metadata": {
    "ExecuteTime": {
     "end_time": "2024-07-21T20:34:33.311067Z",
     "start_time": "2024-07-21T20:34:33.290897Z"
    }
   },
   "cell_type": "code",
   "source": [
    "def sequence_to_graph2(column, color):\n",
    "    tsg = TimeseriesToGraphStrategy(tt=column, strategies = [TimeseriesEdgeVisibilityConstraintsNatural(graph_type=\"directed\", edge_weighting_strategy=EdgeWeightingStrategyNull()), TimeseriesEdgeVisibilityConstraintsHorizontal(graph_type=\"undirected\", edge_weighting_strategy=EdgeWeightingStrategyNull()), TimeseriesToQuantileGraph(Q=4, graph_type=\"directed\")])\n",
    "\n",
    "    g =(tsg.apply_strategies())\n",
    "    \n",
    "    # sequence_to_graph(g, color)\n",
    "    # pos=nx.spring_layout(g.graph, seed=1)\n",
    "    # nx.draw(g.graph, pos, node_size=40, node_color=color)\n",
    "    pos= nx.circular_layout(g, scale=1)\n",
    "    plt.figure(1,figsize=(8,8))\n",
    "    \n",
    "    \n",
    "    all_weights = []\n",
    "    for (q1, q2, data) in g.edges(data=True):\n",
    "        all_weights.append(data['weight'])\n",
    "    unique_weights = list(set(all_weights))\n",
    "    \n",
    "    nx.draw_networkx_nodes(g, pos, g.nodes, node_size=300, node_color = color)\n",
    "    \n",
    "    labels = {node: node for node in g.nodes()}\n",
    "    nx.draw_networkx_labels(g, pos, labels, font_size=12, font_color='black')\n",
    "    \n",
    "    for weight in unique_weights:\n",
    "        weighted_edges = [(q1, q2) for (q1, q2, edge_attr) in g.edges(data=True) if edge_attr['weight']==weight]\n",
    "        width = weight*len(g.nodes)*5.0/sum(all_weights)\n",
    "        nx.draw_networkx_edges(g,pos,edgelist=weighted_edges,width=width,edge_color='black',node_size=300)\n",
    "        \n",
    "    plt.show()"
   ],
   "id": "4a3e992781bbb5da",
   "execution_count": 21,
   "outputs": []
  },
  {
   "metadata": {
    "ExecuteTime": {
     "end_time": "2024-07-21T20:34:35.153534Z",
     "start_time": "2024-07-21T20:34:35.084766Z"
    }
   },
   "cell_type": "code",
   "source": "sequence_to_graph2(segment_1[\"Close\"], 'gray')",
   "id": "13773cf270a266e4",
   "execution_count": 22,
   "outputs": []
  },
  {
   "metadata": {
    "ExecuteTime": {
     "end_time": "2024-07-21T20:31:24.057866Z",
     "start_time": "2024-07-21T20:31:24.040909Z"
    }
   },
   "cell_type": "code",
   "source": [
    "def sequence_to_graph(g, color):\n",
    "    "
   ],
   "id": "215f79bd2a5869b6",
   "execution_count": 13,
   "outputs": []
  },
  {
   "metadata": {},
   "cell_type": "code",
   "execution_count": 51,
   "source": [
    "# def sequence_to_graph(column, color):\n",
    "#     # Initialize the specific strategy\n",
    "# \n",
    "#     # Initialize TimeseriesToGraphStrategy\n",
    "#     strategies = TimeseriesToGraphStrategy(\n",
    "#         strategy = [TimeseriesEdgeVisibilityConstraintsNatural()],\n",
    "#         graph_type=\"undirected\",\n",
    "#         edge_weighting_strategy=EdgeWeightingStrategyNull(),\n",
    "#     )\n",
    "# \n",
    "#     # Create the graph using the to_graph method of TimeseriesToGraphStrategy with the specific strategy\n",
    "#     g = strategies.to_graph(model.TimeseriesArrayStream(column))\n",
    "# \n",
    "#     return g\n"
   ],
   "id": "9e195a4e5ac89ea6",
   "outputs": []
  },
  {
   "metadata": {},
   "cell_type": "code",
   "execution_count": 52,
   "source": [
    "# def sequence_to_graph(column, color):\n",
    "#     strategies = TimeseriesToGraphStrategy(\n",
    "#         strategy=[TimeseriesEdgeVisibilityConstraintsNatural(), TimeseriesEdgeVisibilityConstraintsHorizontal()],\n",
    "#         graph_type=\"undirected\",\n",
    "#         edge_weighting_strategy=EdgeWeightingStrategyNull(),\n",
    "#     )\n",
    "#     visib_strategy = VisibilityGraphStrategy(strategy=strategies.strategy)\n",
    "#     g = visib_strategy.to_graph(model.TimeseriesArrayStream(column))\n",
    "#     \n",
    "#     \n",
    "#     print(g)\n",
    "#     pos=nx.spring_layout(g.graph, seed=1)\n",
    "#     nx.draw(g.graph, pos, node_size=40, node_color=color)"
   ],
   "id": "b7dfbab298276049",
   "outputs": []
  },
  {
   "metadata": {},
   "cell_type": "code",
   "execution_count": 52,
   "source": "",
   "id": "d7f55db157dc9bbc",
   "outputs": []
  },
  {
   "metadata": {
    "ExecuteTime": {
     "end_time": "2024-07-21T19:54:59.305955Z",
     "start_time": "2024-07-21T19:54:59.288241Z"
    }
   },
   "cell_type": "code",
   "source": "print(type(segment_1['Close']))",
   "id": "55ff4df2813276bb",
   "execution_count": 47,
   "outputs": []
  },
  {
   "metadata": {
    "ExecuteTime": {
     "end_time": "2024-07-21T19:05:13.399221Z",
     "start_time": "2024-07-21T19:05:13.360231Z"
    }
   },
   "cell_type": "code",
   "source": "",
   "id": "6ad25c278c06360e",
   "execution_count": 22,
   "outputs": []
  },
  {
   "metadata": {},
   "cell_type": "code",
   "execution_count": null,
   "source": "",
   "id": "7b6897b144c5f51f",
   "outputs": []
  }
 ],
 "metadata": {
  "kernelspec": {
   "display_name": "Python 3",
   "language": "python",
   "name": "python3"
  },
  "language_info": {
   "codemirror_mode": {
    "name": "ipython",
    "version": 2
   },
   "file_extension": ".py",
   "mimetype": "text/x-python",
   "name": "python",
   "nbconvert_exporter": "python",
   "pygments_lexer": "ipython2",
   "version": "2.7.6"
  }
 },
 "nbformat": 4,
 "nbformat_minor": 5
}
